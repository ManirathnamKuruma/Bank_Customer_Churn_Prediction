{
  "nbformat": 4,
  "nbformat_minor": 0,
  "metadata": {
    "colab": {
      "name": "Bank_Customer_Churn_Prediction.ipynb",
      "provenance": [],
      "collapsed_sections": []
    },
    "kernelspec": {
      "name": "python3",
      "display_name": "Python 3"
    },
    "language_info": {
      "name": "python"
    },
    "accelerator": "GPU"
  },
  "cells": [
    {
      "cell_type": "code",
      "metadata": {
        "id": "mde9XknQQcPX"
      },
      "source": [
        "import pandas as pd \n",
        "import numpy as np\n",
        "import matplotlib.pyplot as plt\n",
        "%matplotlib inline\n",
        "import seaborn as sns\n",
        "import warnings\n",
        "warnings.filterwarnings('ignore')"
      ],
      "execution_count": 1,
      "outputs": []
    },
    {
      "cell_type": "code",
      "metadata": {
        "colab": {
          "base_uri": "https://localhost:8080/",
          "height": 215
        },
        "id": "pWQm-aiXRP_9",
        "outputId": "db54474d-9884-46bb-9e25-198060cb0406"
      },
      "source": [
        "# lets load the dataset\n",
        "bank_df=pd.read_csv('/content/Churn_Modelling.csv')\n",
        "bank_df.head()"
      ],
      "execution_count": 2,
      "outputs": [
        {
          "output_type": "execute_result",
          "data": {
            "text/html": [
              "<div>\n",
              "<style scoped>\n",
              "    .dataframe tbody tr th:only-of-type {\n",
              "        vertical-align: middle;\n",
              "    }\n",
              "\n",
              "    .dataframe tbody tr th {\n",
              "        vertical-align: top;\n",
              "    }\n",
              "\n",
              "    .dataframe thead th {\n",
              "        text-align: right;\n",
              "    }\n",
              "</style>\n",
              "<table border=\"1\" class=\"dataframe\">\n",
              "  <thead>\n",
              "    <tr style=\"text-align: right;\">\n",
              "      <th></th>\n",
              "      <th>RowNumber</th>\n",
              "      <th>CustomerId</th>\n",
              "      <th>Surname</th>\n",
              "      <th>CreditScore</th>\n",
              "      <th>Geography</th>\n",
              "      <th>Gender</th>\n",
              "      <th>Age</th>\n",
              "      <th>Tenure</th>\n",
              "      <th>Balance</th>\n",
              "      <th>NumOfProducts</th>\n",
              "      <th>HasCrCard</th>\n",
              "      <th>IsActiveMember</th>\n",
              "      <th>EstimatedSalary</th>\n",
              "      <th>Exited</th>\n",
              "    </tr>\n",
              "  </thead>\n",
              "  <tbody>\n",
              "    <tr>\n",
              "      <th>0</th>\n",
              "      <td>1</td>\n",
              "      <td>15634602</td>\n",
              "      <td>Hargrave</td>\n",
              "      <td>619</td>\n",
              "      <td>France</td>\n",
              "      <td>Female</td>\n",
              "      <td>42</td>\n",
              "      <td>2</td>\n",
              "      <td>0.00</td>\n",
              "      <td>1</td>\n",
              "      <td>1</td>\n",
              "      <td>1</td>\n",
              "      <td>101348.88</td>\n",
              "      <td>1</td>\n",
              "    </tr>\n",
              "    <tr>\n",
              "      <th>1</th>\n",
              "      <td>2</td>\n",
              "      <td>15647311</td>\n",
              "      <td>Hill</td>\n",
              "      <td>608</td>\n",
              "      <td>Spain</td>\n",
              "      <td>Female</td>\n",
              "      <td>41</td>\n",
              "      <td>1</td>\n",
              "      <td>83807.86</td>\n",
              "      <td>1</td>\n",
              "      <td>0</td>\n",
              "      <td>1</td>\n",
              "      <td>112542.58</td>\n",
              "      <td>0</td>\n",
              "    </tr>\n",
              "    <tr>\n",
              "      <th>2</th>\n",
              "      <td>3</td>\n",
              "      <td>15619304</td>\n",
              "      <td>Onio</td>\n",
              "      <td>502</td>\n",
              "      <td>France</td>\n",
              "      <td>Female</td>\n",
              "      <td>42</td>\n",
              "      <td>8</td>\n",
              "      <td>159660.80</td>\n",
              "      <td>3</td>\n",
              "      <td>1</td>\n",
              "      <td>0</td>\n",
              "      <td>113931.57</td>\n",
              "      <td>1</td>\n",
              "    </tr>\n",
              "    <tr>\n",
              "      <th>3</th>\n",
              "      <td>4</td>\n",
              "      <td>15701354</td>\n",
              "      <td>Boni</td>\n",
              "      <td>699</td>\n",
              "      <td>France</td>\n",
              "      <td>Female</td>\n",
              "      <td>39</td>\n",
              "      <td>1</td>\n",
              "      <td>0.00</td>\n",
              "      <td>2</td>\n",
              "      <td>0</td>\n",
              "      <td>0</td>\n",
              "      <td>93826.63</td>\n",
              "      <td>0</td>\n",
              "    </tr>\n",
              "    <tr>\n",
              "      <th>4</th>\n",
              "      <td>5</td>\n",
              "      <td>15737888</td>\n",
              "      <td>Mitchell</td>\n",
              "      <td>850</td>\n",
              "      <td>Spain</td>\n",
              "      <td>Female</td>\n",
              "      <td>43</td>\n",
              "      <td>2</td>\n",
              "      <td>125510.82</td>\n",
              "      <td>1</td>\n",
              "      <td>1</td>\n",
              "      <td>1</td>\n",
              "      <td>79084.10</td>\n",
              "      <td>0</td>\n",
              "    </tr>\n",
              "  </tbody>\n",
              "</table>\n",
              "</div>"
            ],
            "text/plain": [
              "   RowNumber  CustomerId   Surname  ...  IsActiveMember EstimatedSalary Exited\n",
              "0          1    15634602  Hargrave  ...               1       101348.88      1\n",
              "1          2    15647311      Hill  ...               1       112542.58      0\n",
              "2          3    15619304      Onio  ...               0       113931.57      1\n",
              "3          4    15701354      Boni  ...               0        93826.63      0\n",
              "4          5    15737888  Mitchell  ...               1        79084.10      0\n",
              "\n",
              "[5 rows x 14 columns]"
            ]
          },
          "metadata": {
            "tags": []
          },
          "execution_count": 2
        }
      ]
    },
    {
      "cell_type": "code",
      "metadata": {
        "colab": {
          "base_uri": "https://localhost:8080/",
          "height": 195
        },
        "id": "Q7cz1kk3Rkny",
        "outputId": "4e8c917f-33e7-4fbb-fe8b-84bfaebde5d6"
      },
      "source": [
        "# we don't need rownumber,customerid and surname as they dont contribute for analysis and prediction\n",
        "# so lets drop them\n",
        "bank_df.drop(['RowNumber','CustomerId','Surname'],axis=1,inplace=True)\n",
        "bank_df.head()"
      ],
      "execution_count": 3,
      "outputs": [
        {
          "output_type": "execute_result",
          "data": {
            "text/html": [
              "<div>\n",
              "<style scoped>\n",
              "    .dataframe tbody tr th:only-of-type {\n",
              "        vertical-align: middle;\n",
              "    }\n",
              "\n",
              "    .dataframe tbody tr th {\n",
              "        vertical-align: top;\n",
              "    }\n",
              "\n",
              "    .dataframe thead th {\n",
              "        text-align: right;\n",
              "    }\n",
              "</style>\n",
              "<table border=\"1\" class=\"dataframe\">\n",
              "  <thead>\n",
              "    <tr style=\"text-align: right;\">\n",
              "      <th></th>\n",
              "      <th>CreditScore</th>\n",
              "      <th>Geography</th>\n",
              "      <th>Gender</th>\n",
              "      <th>Age</th>\n",
              "      <th>Tenure</th>\n",
              "      <th>Balance</th>\n",
              "      <th>NumOfProducts</th>\n",
              "      <th>HasCrCard</th>\n",
              "      <th>IsActiveMember</th>\n",
              "      <th>EstimatedSalary</th>\n",
              "      <th>Exited</th>\n",
              "    </tr>\n",
              "  </thead>\n",
              "  <tbody>\n",
              "    <tr>\n",
              "      <th>0</th>\n",
              "      <td>619</td>\n",
              "      <td>France</td>\n",
              "      <td>Female</td>\n",
              "      <td>42</td>\n",
              "      <td>2</td>\n",
              "      <td>0.00</td>\n",
              "      <td>1</td>\n",
              "      <td>1</td>\n",
              "      <td>1</td>\n",
              "      <td>101348.88</td>\n",
              "      <td>1</td>\n",
              "    </tr>\n",
              "    <tr>\n",
              "      <th>1</th>\n",
              "      <td>608</td>\n",
              "      <td>Spain</td>\n",
              "      <td>Female</td>\n",
              "      <td>41</td>\n",
              "      <td>1</td>\n",
              "      <td>83807.86</td>\n",
              "      <td>1</td>\n",
              "      <td>0</td>\n",
              "      <td>1</td>\n",
              "      <td>112542.58</td>\n",
              "      <td>0</td>\n",
              "    </tr>\n",
              "    <tr>\n",
              "      <th>2</th>\n",
              "      <td>502</td>\n",
              "      <td>France</td>\n",
              "      <td>Female</td>\n",
              "      <td>42</td>\n",
              "      <td>8</td>\n",
              "      <td>159660.80</td>\n",
              "      <td>3</td>\n",
              "      <td>1</td>\n",
              "      <td>0</td>\n",
              "      <td>113931.57</td>\n",
              "      <td>1</td>\n",
              "    </tr>\n",
              "    <tr>\n",
              "      <th>3</th>\n",
              "      <td>699</td>\n",
              "      <td>France</td>\n",
              "      <td>Female</td>\n",
              "      <td>39</td>\n",
              "      <td>1</td>\n",
              "      <td>0.00</td>\n",
              "      <td>2</td>\n",
              "      <td>0</td>\n",
              "      <td>0</td>\n",
              "      <td>93826.63</td>\n",
              "      <td>0</td>\n",
              "    </tr>\n",
              "    <tr>\n",
              "      <th>4</th>\n",
              "      <td>850</td>\n",
              "      <td>Spain</td>\n",
              "      <td>Female</td>\n",
              "      <td>43</td>\n",
              "      <td>2</td>\n",
              "      <td>125510.82</td>\n",
              "      <td>1</td>\n",
              "      <td>1</td>\n",
              "      <td>1</td>\n",
              "      <td>79084.10</td>\n",
              "      <td>0</td>\n",
              "    </tr>\n",
              "  </tbody>\n",
              "</table>\n",
              "</div>"
            ],
            "text/plain": [
              "   CreditScore Geography  Gender  ...  IsActiveMember  EstimatedSalary  Exited\n",
              "0          619    France  Female  ...               1        101348.88       1\n",
              "1          608     Spain  Female  ...               1        112542.58       0\n",
              "2          502    France  Female  ...               0        113931.57       1\n",
              "3          699    France  Female  ...               0         93826.63       0\n",
              "4          850     Spain  Female  ...               1         79084.10       0\n",
              "\n",
              "[5 rows x 11 columns]"
            ]
          },
          "metadata": {
            "tags": []
          },
          "execution_count": 3
        }
      ]
    },
    {
      "cell_type": "code",
      "metadata": {
        "colab": {
          "base_uri": "https://localhost:8080/"
        },
        "id": "6x3ZXoB2eGnL",
        "outputId": "db9f1da4-dc4b-4374-cfe7-935b88a47a89"
      },
      "source": [
        "bank_df.shape"
      ],
      "execution_count": 4,
      "outputs": [
        {
          "output_type": "execute_result",
          "data": {
            "text/plain": [
              "(10000, 11)"
            ]
          },
          "metadata": {
            "tags": []
          },
          "execution_count": 4
        }
      ]
    },
    {
      "cell_type": "code",
      "metadata": {
        "colab": {
          "base_uri": "https://localhost:8080/"
        },
        "id": "GtXNOEOWaqBN",
        "outputId": "fc75781d-36ab-40ac-e9fb-54b1d4ea50f8"
      },
      "source": [
        "# lets check for null values\n",
        "bank_df.isnull().sum()"
      ],
      "execution_count": 5,
      "outputs": [
        {
          "output_type": "execute_result",
          "data": {
            "text/plain": [
              "CreditScore        0\n",
              "Geography          0\n",
              "Gender             0\n",
              "Age                0\n",
              "Tenure             0\n",
              "Balance            0\n",
              "NumOfProducts      0\n",
              "HasCrCard          0\n",
              "IsActiveMember     0\n",
              "EstimatedSalary    0\n",
              "Exited             0\n",
              "dtype: int64"
            ]
          },
          "metadata": {
            "tags": []
          },
          "execution_count": 5
        }
      ]
    },
    {
      "cell_type": "code",
      "metadata": {
        "colab": {
          "base_uri": "https://localhost:8080/"
        },
        "id": "bj_Y4JZjaxOy",
        "outputId": "5c07bc07-b24b-4025-b652-40f580c45125"
      },
      "source": [
        "bank_df.dtypes"
      ],
      "execution_count": 6,
      "outputs": [
        {
          "output_type": "execute_result",
          "data": {
            "text/plain": [
              "CreditScore          int64\n",
              "Geography           object\n",
              "Gender              object\n",
              "Age                  int64\n",
              "Tenure               int64\n",
              "Balance            float64\n",
              "NumOfProducts        int64\n",
              "HasCrCard            int64\n",
              "IsActiveMember       int64\n",
              "EstimatedSalary    float64\n",
              "Exited               int64\n",
              "dtype: object"
            ]
          },
          "metadata": {
            "tags": []
          },
          "execution_count": 6
        }
      ]
    },
    {
      "cell_type": "code",
      "metadata": {
        "id": "28kfYU2cbGIq"
      },
      "source": [
        "# now we just need to focus on these object dtypes\n",
        "# lets find out the unique values in them\n",
        "# lets define a function to show unique of object dtype\n",
        "def obj_unique(df):\n",
        "  for col in df:\n",
        "    if df[col].dtype=='object':\n",
        "      print(df[col].value_counts())\n",
        "      print('-'*70)"
      ],
      "execution_count": 7,
      "outputs": []
    },
    {
      "cell_type": "code",
      "metadata": {
        "colab": {
          "base_uri": "https://localhost:8080/"
        },
        "id": "96JknlHfcJ-k",
        "outputId": "f84b9b72-3704-43af-b348-c2d429bc74fa"
      },
      "source": [
        "obj_unique(bank_df)"
      ],
      "execution_count": 8,
      "outputs": [
        {
          "output_type": "stream",
          "text": [
            "France     5014\n",
            "Germany    2509\n",
            "Spain      2477\n",
            "Name: Geography, dtype: int64\n",
            "----------------------------------------------------------------------\n",
            "Male      5457\n",
            "Female    4543\n",
            "Name: Gender, dtype: int64\n",
            "----------------------------------------------------------------------\n"
          ],
          "name": "stdout"
        }
      ]
    },
    {
      "cell_type": "code",
      "metadata": {
        "colab": {
          "base_uri": "https://localhost:8080/",
          "height": 215
        },
        "id": "hnWLHRJAdMdE",
        "outputId": "c759bdef-9a96-4ec6-f08f-c55f7ef24289"
      },
      "source": [
        "# lets perform onehot encoding on Geography column\n",
        "bank_df=pd.get_dummies(data=bank_df,columns=['Geography'])\n",
        "bank_df.head()"
      ],
      "execution_count": 9,
      "outputs": [
        {
          "output_type": "execute_result",
          "data": {
            "text/html": [
              "<div>\n",
              "<style scoped>\n",
              "    .dataframe tbody tr th:only-of-type {\n",
              "        vertical-align: middle;\n",
              "    }\n",
              "\n",
              "    .dataframe tbody tr th {\n",
              "        vertical-align: top;\n",
              "    }\n",
              "\n",
              "    .dataframe thead th {\n",
              "        text-align: right;\n",
              "    }\n",
              "</style>\n",
              "<table border=\"1\" class=\"dataframe\">\n",
              "  <thead>\n",
              "    <tr style=\"text-align: right;\">\n",
              "      <th></th>\n",
              "      <th>CreditScore</th>\n",
              "      <th>Gender</th>\n",
              "      <th>Age</th>\n",
              "      <th>Tenure</th>\n",
              "      <th>Balance</th>\n",
              "      <th>NumOfProducts</th>\n",
              "      <th>HasCrCard</th>\n",
              "      <th>IsActiveMember</th>\n",
              "      <th>EstimatedSalary</th>\n",
              "      <th>Exited</th>\n",
              "      <th>Geography_France</th>\n",
              "      <th>Geography_Germany</th>\n",
              "      <th>Geography_Spain</th>\n",
              "    </tr>\n",
              "  </thead>\n",
              "  <tbody>\n",
              "    <tr>\n",
              "      <th>0</th>\n",
              "      <td>619</td>\n",
              "      <td>Female</td>\n",
              "      <td>42</td>\n",
              "      <td>2</td>\n",
              "      <td>0.00</td>\n",
              "      <td>1</td>\n",
              "      <td>1</td>\n",
              "      <td>1</td>\n",
              "      <td>101348.88</td>\n",
              "      <td>1</td>\n",
              "      <td>1</td>\n",
              "      <td>0</td>\n",
              "      <td>0</td>\n",
              "    </tr>\n",
              "    <tr>\n",
              "      <th>1</th>\n",
              "      <td>608</td>\n",
              "      <td>Female</td>\n",
              "      <td>41</td>\n",
              "      <td>1</td>\n",
              "      <td>83807.86</td>\n",
              "      <td>1</td>\n",
              "      <td>0</td>\n",
              "      <td>1</td>\n",
              "      <td>112542.58</td>\n",
              "      <td>0</td>\n",
              "      <td>0</td>\n",
              "      <td>0</td>\n",
              "      <td>1</td>\n",
              "    </tr>\n",
              "    <tr>\n",
              "      <th>2</th>\n",
              "      <td>502</td>\n",
              "      <td>Female</td>\n",
              "      <td>42</td>\n",
              "      <td>8</td>\n",
              "      <td>159660.80</td>\n",
              "      <td>3</td>\n",
              "      <td>1</td>\n",
              "      <td>0</td>\n",
              "      <td>113931.57</td>\n",
              "      <td>1</td>\n",
              "      <td>1</td>\n",
              "      <td>0</td>\n",
              "      <td>0</td>\n",
              "    </tr>\n",
              "    <tr>\n",
              "      <th>3</th>\n",
              "      <td>699</td>\n",
              "      <td>Female</td>\n",
              "      <td>39</td>\n",
              "      <td>1</td>\n",
              "      <td>0.00</td>\n",
              "      <td>2</td>\n",
              "      <td>0</td>\n",
              "      <td>0</td>\n",
              "      <td>93826.63</td>\n",
              "      <td>0</td>\n",
              "      <td>1</td>\n",
              "      <td>0</td>\n",
              "      <td>0</td>\n",
              "    </tr>\n",
              "    <tr>\n",
              "      <th>4</th>\n",
              "      <td>850</td>\n",
              "      <td>Female</td>\n",
              "      <td>43</td>\n",
              "      <td>2</td>\n",
              "      <td>125510.82</td>\n",
              "      <td>1</td>\n",
              "      <td>1</td>\n",
              "      <td>1</td>\n",
              "      <td>79084.10</td>\n",
              "      <td>0</td>\n",
              "      <td>0</td>\n",
              "      <td>0</td>\n",
              "      <td>1</td>\n",
              "    </tr>\n",
              "  </tbody>\n",
              "</table>\n",
              "</div>"
            ],
            "text/plain": [
              "   CreditScore  Gender  ...  Geography_Germany  Geography_Spain\n",
              "0          619  Female  ...                  0                0\n",
              "1          608  Female  ...                  0                1\n",
              "2          502  Female  ...                  0                0\n",
              "3          699  Female  ...                  0                0\n",
              "4          850  Female  ...                  0                1\n",
              "\n",
              "[5 rows x 13 columns]"
            ]
          },
          "metadata": {
            "tags": []
          },
          "execution_count": 9
        }
      ]
    },
    {
      "cell_type": "code",
      "metadata": {
        "colab": {
          "base_uri": "https://localhost:8080/"
        },
        "id": "haCyRCTLc0SS",
        "outputId": "749c2c69-b4b2-4e38-a1e0-89874003540c"
      },
      "source": [
        "bank_df.shape"
      ],
      "execution_count": 10,
      "outputs": [
        {
          "output_type": "execute_result",
          "data": {
            "text/plain": [
              "(10000, 13)"
            ]
          },
          "metadata": {
            "tags": []
          },
          "execution_count": 10
        }
      ]
    },
    {
      "cell_type": "code",
      "metadata": {
        "id": "O5AIVMWJepRZ"
      },
      "source": [
        "# lets replace values of Gender column to 1's and 0's\n",
        "bank_df['Gender'].replace({'Male':1,'Female':0},inplace=True)\n"
      ],
      "execution_count": null,
      "outputs": []
    },
    {
      "cell_type": "code",
      "metadata": {
        "colab": {
          "base_uri": "https://localhost:8080/",
          "height": 363
        },
        "id": "5XqeyFzyf47g",
        "outputId": "83aee815-4791-4af0-9a20-31e71749f287"
      },
      "source": [
        "bank_df.head(10)"
      ],
      "execution_count": 36,
      "outputs": [
        {
          "output_type": "execute_result",
          "data": {
            "text/html": [
              "<div>\n",
              "<style scoped>\n",
              "    .dataframe tbody tr th:only-of-type {\n",
              "        vertical-align: middle;\n",
              "    }\n",
              "\n",
              "    .dataframe tbody tr th {\n",
              "        vertical-align: top;\n",
              "    }\n",
              "\n",
              "    .dataframe thead th {\n",
              "        text-align: right;\n",
              "    }\n",
              "</style>\n",
              "<table border=\"1\" class=\"dataframe\">\n",
              "  <thead>\n",
              "    <tr style=\"text-align: right;\">\n",
              "      <th></th>\n",
              "      <th>CreditScore</th>\n",
              "      <th>Gender</th>\n",
              "      <th>Age</th>\n",
              "      <th>Tenure</th>\n",
              "      <th>Balance</th>\n",
              "      <th>NumOfProducts</th>\n",
              "      <th>HasCrCard</th>\n",
              "      <th>IsActiveMember</th>\n",
              "      <th>EstimatedSalary</th>\n",
              "      <th>Exited</th>\n",
              "      <th>Geography_France</th>\n",
              "      <th>Geography_Germany</th>\n",
              "      <th>Geography_Spain</th>\n",
              "    </tr>\n",
              "  </thead>\n",
              "  <tbody>\n",
              "    <tr>\n",
              "      <th>0</th>\n",
              "      <td>619</td>\n",
              "      <td>0</td>\n",
              "      <td>42</td>\n",
              "      <td>2</td>\n",
              "      <td>0.00</td>\n",
              "      <td>1</td>\n",
              "      <td>1</td>\n",
              "      <td>1</td>\n",
              "      <td>101348.88</td>\n",
              "      <td>1</td>\n",
              "      <td>1</td>\n",
              "      <td>0</td>\n",
              "      <td>0</td>\n",
              "    </tr>\n",
              "    <tr>\n",
              "      <th>1</th>\n",
              "      <td>608</td>\n",
              "      <td>0</td>\n",
              "      <td>41</td>\n",
              "      <td>1</td>\n",
              "      <td>83807.86</td>\n",
              "      <td>1</td>\n",
              "      <td>0</td>\n",
              "      <td>1</td>\n",
              "      <td>112542.58</td>\n",
              "      <td>0</td>\n",
              "      <td>0</td>\n",
              "      <td>0</td>\n",
              "      <td>1</td>\n",
              "    </tr>\n",
              "    <tr>\n",
              "      <th>2</th>\n",
              "      <td>502</td>\n",
              "      <td>0</td>\n",
              "      <td>42</td>\n",
              "      <td>8</td>\n",
              "      <td>159660.80</td>\n",
              "      <td>3</td>\n",
              "      <td>1</td>\n",
              "      <td>0</td>\n",
              "      <td>113931.57</td>\n",
              "      <td>1</td>\n",
              "      <td>1</td>\n",
              "      <td>0</td>\n",
              "      <td>0</td>\n",
              "    </tr>\n",
              "    <tr>\n",
              "      <th>3</th>\n",
              "      <td>699</td>\n",
              "      <td>0</td>\n",
              "      <td>39</td>\n",
              "      <td>1</td>\n",
              "      <td>0.00</td>\n",
              "      <td>2</td>\n",
              "      <td>0</td>\n",
              "      <td>0</td>\n",
              "      <td>93826.63</td>\n",
              "      <td>0</td>\n",
              "      <td>1</td>\n",
              "      <td>0</td>\n",
              "      <td>0</td>\n",
              "    </tr>\n",
              "    <tr>\n",
              "      <th>4</th>\n",
              "      <td>850</td>\n",
              "      <td>0</td>\n",
              "      <td>43</td>\n",
              "      <td>2</td>\n",
              "      <td>125510.82</td>\n",
              "      <td>1</td>\n",
              "      <td>1</td>\n",
              "      <td>1</td>\n",
              "      <td>79084.10</td>\n",
              "      <td>0</td>\n",
              "      <td>0</td>\n",
              "      <td>0</td>\n",
              "      <td>1</td>\n",
              "    </tr>\n",
              "    <tr>\n",
              "      <th>5</th>\n",
              "      <td>645</td>\n",
              "      <td>1</td>\n",
              "      <td>44</td>\n",
              "      <td>8</td>\n",
              "      <td>113755.78</td>\n",
              "      <td>2</td>\n",
              "      <td>1</td>\n",
              "      <td>0</td>\n",
              "      <td>149756.71</td>\n",
              "      <td>1</td>\n",
              "      <td>0</td>\n",
              "      <td>0</td>\n",
              "      <td>1</td>\n",
              "    </tr>\n",
              "    <tr>\n",
              "      <th>6</th>\n",
              "      <td>822</td>\n",
              "      <td>1</td>\n",
              "      <td>50</td>\n",
              "      <td>7</td>\n",
              "      <td>0.00</td>\n",
              "      <td>2</td>\n",
              "      <td>1</td>\n",
              "      <td>1</td>\n",
              "      <td>10062.80</td>\n",
              "      <td>0</td>\n",
              "      <td>1</td>\n",
              "      <td>0</td>\n",
              "      <td>0</td>\n",
              "    </tr>\n",
              "    <tr>\n",
              "      <th>7</th>\n",
              "      <td>376</td>\n",
              "      <td>0</td>\n",
              "      <td>29</td>\n",
              "      <td>4</td>\n",
              "      <td>115046.74</td>\n",
              "      <td>4</td>\n",
              "      <td>1</td>\n",
              "      <td>0</td>\n",
              "      <td>119346.88</td>\n",
              "      <td>1</td>\n",
              "      <td>0</td>\n",
              "      <td>1</td>\n",
              "      <td>0</td>\n",
              "    </tr>\n",
              "    <tr>\n",
              "      <th>8</th>\n",
              "      <td>501</td>\n",
              "      <td>1</td>\n",
              "      <td>44</td>\n",
              "      <td>4</td>\n",
              "      <td>142051.07</td>\n",
              "      <td>2</td>\n",
              "      <td>0</td>\n",
              "      <td>1</td>\n",
              "      <td>74940.50</td>\n",
              "      <td>0</td>\n",
              "      <td>1</td>\n",
              "      <td>0</td>\n",
              "      <td>0</td>\n",
              "    </tr>\n",
              "    <tr>\n",
              "      <th>9</th>\n",
              "      <td>684</td>\n",
              "      <td>1</td>\n",
              "      <td>27</td>\n",
              "      <td>2</td>\n",
              "      <td>134603.88</td>\n",
              "      <td>1</td>\n",
              "      <td>1</td>\n",
              "      <td>1</td>\n",
              "      <td>71725.73</td>\n",
              "      <td>0</td>\n",
              "      <td>1</td>\n",
              "      <td>0</td>\n",
              "      <td>0</td>\n",
              "    </tr>\n",
              "  </tbody>\n",
              "</table>\n",
              "</div>"
            ],
            "text/plain": [
              "   CreditScore  Gender  ...  Geography_Germany  Geography_Spain\n",
              "0          619       0  ...                  0                0\n",
              "1          608       0  ...                  0                1\n",
              "2          502       0  ...                  0                0\n",
              "3          699       0  ...                  0                0\n",
              "4          850       0  ...                  0                1\n",
              "5          645       1  ...                  0                1\n",
              "6          822       1  ...                  0                0\n",
              "7          376       0  ...                  1                0\n",
              "8          501       1  ...                  0                0\n",
              "9          684       1  ...                  0                0\n",
              "\n",
              "[10 rows x 13 columns]"
            ]
          },
          "metadata": {
            "tags": []
          },
          "execution_count": 36
        }
      ]
    },
    {
      "cell_type": "code",
      "metadata": {
        "colab": {
          "base_uri": "https://localhost:8080/"
        },
        "id": "tz1xfMZ9feum",
        "outputId": "18697c12-3f09-4ba8-9e59-054a706e96cf"
      },
      "source": [
        "bank_df.shape"
      ],
      "execution_count": 12,
      "outputs": [
        {
          "output_type": "execute_result",
          "data": {
            "text/plain": [
              "(10000, 13)"
            ]
          },
          "metadata": {
            "tags": []
          },
          "execution_count": 12
        }
      ]
    },
    {
      "cell_type": "code",
      "metadata": {
        "colab": {
          "base_uri": "https://localhost:8080/"
        },
        "id": "qBgnObvafk3R",
        "outputId": "a4b689ac-b3f5-4dd0-fbdb-ee5fa12f8dcb"
      },
      "source": [
        "bank_df.dtypes"
      ],
      "execution_count": 13,
      "outputs": [
        {
          "output_type": "execute_result",
          "data": {
            "text/plain": [
              "CreditScore            int64\n",
              "Gender                 int64\n",
              "Age                    int64\n",
              "Tenure                 int64\n",
              "Balance              float64\n",
              "NumOfProducts          int64\n",
              "HasCrCard              int64\n",
              "IsActiveMember         int64\n",
              "EstimatedSalary      float64\n",
              "Exited                 int64\n",
              "Geography_France       uint8\n",
              "Geography_Germany      uint8\n",
              "Geography_Spain        uint8\n",
              "dtype: object"
            ]
          },
          "metadata": {
            "tags": []
          },
          "execution_count": 13
        }
      ]
    },
    {
      "cell_type": "code",
      "metadata": {
        "id": "xRPhc8VhftDB",
        "colab": {
          "base_uri": "https://localhost:8080/"
        },
        "outputId": "ed07ad4d-e2cd-4707-eab4-1c28bbf764c9"
      },
      "source": [
        "# lets see the class distribution in target variable\n",
        "bank_df['Exited'].value_counts()"
      ],
      "execution_count": 14,
      "outputs": [
        {
          "output_type": "execute_result",
          "data": {
            "text/plain": [
              "0    7963\n",
              "1    2037\n",
              "Name: Exited, dtype: int64"
            ]
          },
          "metadata": {
            "tags": []
          },
          "execution_count": 14
        }
      ]
    },
    {
      "cell_type": "code",
      "metadata": {
        "id": "o_J1FEtAM9Zz"
      },
      "source": [
        "# lets perform train test split\n",
        "from sklearn.model_selection import train_test_split\n",
        "X=bank_df.drop(['Exited'],axis=1)\n",
        "y=bank_df['Exited']\n",
        "X_train,X_test,y_train,y_test=train_test_split(X,y,test_size=0.2,random_state=21)"
      ],
      "execution_count": 15,
      "outputs": []
    },
    {
      "cell_type": "code",
      "metadata": {
        "colab": {
          "base_uri": "https://localhost:8080/"
        },
        "id": "vvKgsbFMN3yB",
        "outputId": "b3cd0fa3-1bf9-46ab-dd19-0ffffbf01d80"
      },
      "source": [
        "print(X_train.shape)\n",
        "print(X_test.shape)\n",
        "print(y_train.shape)\n",
        "print(y_test.shape)"
      ],
      "execution_count": 16,
      "outputs": [
        {
          "output_type": "stream",
          "text": [
            "(8000, 12)\n",
            "(2000, 12)\n",
            "(8000,)\n",
            "(2000,)\n"
          ],
          "name": "stdout"
        }
      ]
    },
    {
      "cell_type": "code",
      "metadata": {
        "id": "V1MYGwTDONm-"
      },
      "source": [
        "# lets apply standardization\n",
        "from sklearn.preprocessing import StandardScaler\n",
        "sc=StandardScaler()\n",
        "sc.fit(X_train)\n",
        "X_train=sc.transform(X_train)\n",
        "X_test=sc.transform(X_test)"
      ],
      "execution_count": 17,
      "outputs": []
    },
    {
      "cell_type": "code",
      "metadata": {
        "colab": {
          "base_uri": "https://localhost:8080/"
        },
        "id": "Lhtbj835OtuA",
        "outputId": "ad1ab107-e844-44fa-ee67-2c9d7d1458d0"
      },
      "source": [
        "print(X_train.shape)\n",
        "print(X_test.shape)\n",
        "print(y_train.shape)\n",
        "print(y_test.shape)"
      ],
      "execution_count": 18,
      "outputs": [
        {
          "output_type": "stream",
          "text": [
            "(8000, 12)\n",
            "(2000, 12)\n",
            "(8000,)\n",
            "(2000,)\n"
          ],
          "name": "stdout"
        }
      ]
    },
    {
      "cell_type": "code",
      "metadata": {
        "id": "tpiS7SSxOx-E"
      },
      "source": [
        "# lets import tensorflow, keras\n",
        "import tensorflow as tf\n",
        "from tensorflow import keras"
      ],
      "execution_count": 19,
      "outputs": []
    },
    {
      "cell_type": "code",
      "metadata": {
        "id": "qKzCc7SgPCHV"
      },
      "source": [
        "model=keras.Sequential([\n",
        "                        keras.layers.Dense(12,input_shape=(12,),activation='relu'),\n",
        "                        keras.layers.Dense(11,activation='relu'),\n",
        "                        keras.layers.Dense(1,activation='sigmoid')\n",
        "])\n"
      ],
      "execution_count": 20,
      "outputs": []
    },
    {
      "cell_type": "code",
      "metadata": {
        "id": "ic7afC6ZQGoX"
      },
      "source": [
        "model.compile(loss='binary_crossentropy',optimizer='adam',metrics=['accuracy'])"
      ],
      "execution_count": 21,
      "outputs": []
    },
    {
      "cell_type": "code",
      "metadata": {
        "colab": {
          "base_uri": "https://localhost:8080/"
        },
        "id": "GPqrOi_iQkAs",
        "outputId": "05ed27bd-c078-408c-8d56-7970b71f3dcf"
      },
      "source": [
        "from keras.callbacks import EarlyStopping\n",
        "from keras.callbacks import ModelCheckpoint\n",
        "from keras.models import load_model\n",
        "# early stopping\n",
        "es=EarlyStopping(monitor='val_loss',mode='min',verbose=1,patience=200)\n",
        "mc=ModelCheckpoint('best_model.h5',monitor='val_accuracy',mode='max',verbose=1,save_best_only=True)\n",
        "#fit model\n",
        "history=model.fit(X_train,y_train,validation_data=(X_test,y_test),epochs=4000,verbose=0,callbacks=[es,mc])\n",
        "#load the saved model\n",
        "saved_model=load_model('best_model.h5')\n",
        "#evaluate the model\n",
        "_,train_acc=saved_model.evaluate(X_train,y_train,verbose=0)\n",
        "_,test_acc=saved_model.evaluate(X_test,y_test,verbose=0)\n",
        "print('Train: {}, Test: {}'.format(train_acc,test_acc))"
      ],
      "execution_count": 22,
      "outputs": [
        {
          "output_type": "stream",
          "text": [
            "\n",
            "Epoch 00001: val_accuracy improved from -inf to 0.80000, saving model to best_model.h5\n",
            "\n",
            "Epoch 00002: val_accuracy improved from 0.80000 to 0.80150, saving model to best_model.h5\n",
            "\n",
            "Epoch 00003: val_accuracy improved from 0.80150 to 0.81800, saving model to best_model.h5\n",
            "\n",
            "Epoch 00004: val_accuracy improved from 0.81800 to 0.83500, saving model to best_model.h5\n",
            "\n",
            "Epoch 00005: val_accuracy improved from 0.83500 to 0.84250, saving model to best_model.h5\n",
            "\n",
            "Epoch 00006: val_accuracy improved from 0.84250 to 0.84750, saving model to best_model.h5\n",
            "\n",
            "Epoch 00007: val_accuracy improved from 0.84750 to 0.85000, saving model to best_model.h5\n",
            "\n",
            "Epoch 00008: val_accuracy improved from 0.85000 to 0.85550, saving model to best_model.h5\n",
            "\n",
            "Epoch 00009: val_accuracy improved from 0.85550 to 0.85800, saving model to best_model.h5\n",
            "\n",
            "Epoch 00010: val_accuracy did not improve from 0.85800\n",
            "\n",
            "Epoch 00011: val_accuracy did not improve from 0.85800\n",
            "\n",
            "Epoch 00012: val_accuracy improved from 0.85800 to 0.86000, saving model to best_model.h5\n",
            "\n",
            "Epoch 00013: val_accuracy did not improve from 0.86000\n",
            "\n",
            "Epoch 00014: val_accuracy improved from 0.86000 to 0.86150, saving model to best_model.h5\n",
            "\n",
            "Epoch 00015: val_accuracy did not improve from 0.86150\n",
            "\n",
            "Epoch 00016: val_accuracy did not improve from 0.86150\n",
            "\n",
            "Epoch 00017: val_accuracy did not improve from 0.86150\n",
            "\n",
            "Epoch 00018: val_accuracy did not improve from 0.86150\n",
            "\n",
            "Epoch 00019: val_accuracy did not improve from 0.86150\n",
            "\n",
            "Epoch 00020: val_accuracy improved from 0.86150 to 0.86200, saving model to best_model.h5\n",
            "\n",
            "Epoch 00021: val_accuracy improved from 0.86200 to 0.86500, saving model to best_model.h5\n",
            "\n",
            "Epoch 00022: val_accuracy did not improve from 0.86500\n",
            "\n",
            "Epoch 00023: val_accuracy did not improve from 0.86500\n",
            "\n",
            "Epoch 00024: val_accuracy did not improve from 0.86500\n",
            "\n",
            "Epoch 00025: val_accuracy did not improve from 0.86500\n",
            "\n",
            "Epoch 00026: val_accuracy did not improve from 0.86500\n",
            "\n",
            "Epoch 00027: val_accuracy did not improve from 0.86500\n",
            "\n",
            "Epoch 00028: val_accuracy did not improve from 0.86500\n",
            "\n",
            "Epoch 00029: val_accuracy did not improve from 0.86500\n",
            "\n",
            "Epoch 00030: val_accuracy did not improve from 0.86500\n",
            "\n",
            "Epoch 00031: val_accuracy did not improve from 0.86500\n",
            "\n",
            "Epoch 00032: val_accuracy did not improve from 0.86500\n",
            "\n",
            "Epoch 00033: val_accuracy did not improve from 0.86500\n",
            "\n",
            "Epoch 00034: val_accuracy did not improve from 0.86500\n",
            "\n",
            "Epoch 00035: val_accuracy did not improve from 0.86500\n",
            "\n",
            "Epoch 00036: val_accuracy did not improve from 0.86500\n",
            "\n",
            "Epoch 00037: val_accuracy did not improve from 0.86500\n",
            "\n",
            "Epoch 00038: val_accuracy did not improve from 0.86500\n",
            "\n",
            "Epoch 00039: val_accuracy did not improve from 0.86500\n",
            "\n",
            "Epoch 00040: val_accuracy did not improve from 0.86500\n",
            "\n",
            "Epoch 00041: val_accuracy did not improve from 0.86500\n",
            "\n",
            "Epoch 00042: val_accuracy did not improve from 0.86500\n",
            "\n",
            "Epoch 00043: val_accuracy improved from 0.86500 to 0.86850, saving model to best_model.h5\n",
            "\n",
            "Epoch 00044: val_accuracy did not improve from 0.86850\n",
            "\n",
            "Epoch 00045: val_accuracy did not improve from 0.86850\n",
            "\n",
            "Epoch 00046: val_accuracy did not improve from 0.86850\n",
            "\n",
            "Epoch 00047: val_accuracy did not improve from 0.86850\n",
            "\n",
            "Epoch 00048: val_accuracy did not improve from 0.86850\n",
            "\n",
            "Epoch 00049: val_accuracy did not improve from 0.86850\n",
            "\n",
            "Epoch 00050: val_accuracy did not improve from 0.86850\n",
            "\n",
            "Epoch 00051: val_accuracy did not improve from 0.86850\n",
            "\n",
            "Epoch 00052: val_accuracy did not improve from 0.86850\n",
            "\n",
            "Epoch 00053: val_accuracy did not improve from 0.86850\n",
            "\n",
            "Epoch 00054: val_accuracy did not improve from 0.86850\n",
            "\n",
            "Epoch 00055: val_accuracy did not improve from 0.86850\n",
            "\n",
            "Epoch 00056: val_accuracy did not improve from 0.86850\n",
            "\n",
            "Epoch 00057: val_accuracy did not improve from 0.86850\n",
            "\n",
            "Epoch 00058: val_accuracy did not improve from 0.86850\n",
            "\n",
            "Epoch 00059: val_accuracy did not improve from 0.86850\n",
            "\n",
            "Epoch 00060: val_accuracy did not improve from 0.86850\n",
            "\n",
            "Epoch 00061: val_accuracy did not improve from 0.86850\n",
            "\n",
            "Epoch 00062: val_accuracy did not improve from 0.86850\n",
            "\n",
            "Epoch 00063: val_accuracy did not improve from 0.86850\n",
            "\n",
            "Epoch 00064: val_accuracy did not improve from 0.86850\n",
            "\n",
            "Epoch 00065: val_accuracy did not improve from 0.86850\n",
            "\n",
            "Epoch 00066: val_accuracy did not improve from 0.86850\n",
            "\n",
            "Epoch 00067: val_accuracy did not improve from 0.86850\n",
            "\n",
            "Epoch 00068: val_accuracy did not improve from 0.86850\n",
            "\n",
            "Epoch 00069: val_accuracy did not improve from 0.86850\n",
            "\n",
            "Epoch 00070: val_accuracy did not improve from 0.86850\n",
            "\n",
            "Epoch 00071: val_accuracy did not improve from 0.86850\n",
            "\n",
            "Epoch 00072: val_accuracy did not improve from 0.86850\n",
            "\n",
            "Epoch 00073: val_accuracy did not improve from 0.86850\n",
            "\n",
            "Epoch 00074: val_accuracy did not improve from 0.86850\n",
            "\n",
            "Epoch 00075: val_accuracy did not improve from 0.86850\n",
            "\n",
            "Epoch 00076: val_accuracy did not improve from 0.86850\n",
            "\n",
            "Epoch 00077: val_accuracy did not improve from 0.86850\n",
            "\n",
            "Epoch 00078: val_accuracy did not improve from 0.86850\n",
            "\n",
            "Epoch 00079: val_accuracy did not improve from 0.86850\n",
            "\n",
            "Epoch 00080: val_accuracy did not improve from 0.86850\n",
            "\n",
            "Epoch 00081: val_accuracy did not improve from 0.86850\n",
            "\n",
            "Epoch 00082: val_accuracy did not improve from 0.86850\n",
            "\n",
            "Epoch 00083: val_accuracy did not improve from 0.86850\n",
            "\n",
            "Epoch 00084: val_accuracy did not improve from 0.86850\n",
            "\n",
            "Epoch 00085: val_accuracy did not improve from 0.86850\n",
            "\n",
            "Epoch 00086: val_accuracy did not improve from 0.86850\n",
            "\n",
            "Epoch 00087: val_accuracy did not improve from 0.86850\n",
            "\n",
            "Epoch 00088: val_accuracy did not improve from 0.86850\n",
            "\n",
            "Epoch 00089: val_accuracy did not improve from 0.86850\n",
            "\n",
            "Epoch 00090: val_accuracy did not improve from 0.86850\n",
            "\n",
            "Epoch 00091: val_accuracy did not improve from 0.86850\n",
            "\n",
            "Epoch 00092: val_accuracy did not improve from 0.86850\n",
            "\n",
            "Epoch 00093: val_accuracy did not improve from 0.86850\n",
            "\n",
            "Epoch 00094: val_accuracy did not improve from 0.86850\n",
            "\n",
            "Epoch 00095: val_accuracy did not improve from 0.86850\n",
            "\n",
            "Epoch 00096: val_accuracy did not improve from 0.86850\n",
            "\n",
            "Epoch 00097: val_accuracy did not improve from 0.86850\n",
            "\n",
            "Epoch 00098: val_accuracy did not improve from 0.86850\n",
            "\n",
            "Epoch 00099: val_accuracy did not improve from 0.86850\n",
            "\n",
            "Epoch 00100: val_accuracy did not improve from 0.86850\n",
            "\n",
            "Epoch 00101: val_accuracy did not improve from 0.86850\n",
            "\n",
            "Epoch 00102: val_accuracy did not improve from 0.86850\n",
            "\n",
            "Epoch 00103: val_accuracy did not improve from 0.86850\n",
            "\n",
            "Epoch 00104: val_accuracy did not improve from 0.86850\n",
            "\n",
            "Epoch 00105: val_accuracy did not improve from 0.86850\n",
            "\n",
            "Epoch 00106: val_accuracy did not improve from 0.86850\n",
            "\n",
            "Epoch 00107: val_accuracy did not improve from 0.86850\n",
            "\n",
            "Epoch 00108: val_accuracy did not improve from 0.86850\n",
            "\n",
            "Epoch 00109: val_accuracy did not improve from 0.86850\n",
            "\n",
            "Epoch 00110: val_accuracy did not improve from 0.86850\n",
            "\n",
            "Epoch 00111: val_accuracy did not improve from 0.86850\n",
            "\n",
            "Epoch 00112: val_accuracy did not improve from 0.86850\n",
            "\n",
            "Epoch 00113: val_accuracy did not improve from 0.86850\n",
            "\n",
            "Epoch 00114: val_accuracy did not improve from 0.86850\n",
            "\n",
            "Epoch 00115: val_accuracy did not improve from 0.86850\n",
            "\n",
            "Epoch 00116: val_accuracy did not improve from 0.86850\n",
            "\n",
            "Epoch 00117: val_accuracy did not improve from 0.86850\n",
            "\n",
            "Epoch 00118: val_accuracy did not improve from 0.86850\n",
            "\n",
            "Epoch 00119: val_accuracy did not improve from 0.86850\n",
            "\n",
            "Epoch 00120: val_accuracy did not improve from 0.86850\n",
            "\n",
            "Epoch 00121: val_accuracy did not improve from 0.86850\n",
            "\n",
            "Epoch 00122: val_accuracy did not improve from 0.86850\n",
            "\n",
            "Epoch 00123: val_accuracy did not improve from 0.86850\n",
            "\n",
            "Epoch 00124: val_accuracy did not improve from 0.86850\n",
            "\n",
            "Epoch 00125: val_accuracy did not improve from 0.86850\n",
            "\n",
            "Epoch 00126: val_accuracy did not improve from 0.86850\n",
            "\n",
            "Epoch 00127: val_accuracy did not improve from 0.86850\n",
            "\n",
            "Epoch 00128: val_accuracy did not improve from 0.86850\n",
            "\n",
            "Epoch 00129: val_accuracy did not improve from 0.86850\n",
            "\n",
            "Epoch 00130: val_accuracy did not improve from 0.86850\n",
            "\n",
            "Epoch 00131: val_accuracy did not improve from 0.86850\n",
            "\n",
            "Epoch 00132: val_accuracy did not improve from 0.86850\n",
            "\n",
            "Epoch 00133: val_accuracy did not improve from 0.86850\n",
            "\n",
            "Epoch 00134: val_accuracy did not improve from 0.86850\n",
            "\n",
            "Epoch 00135: val_accuracy did not improve from 0.86850\n",
            "\n",
            "Epoch 00136: val_accuracy did not improve from 0.86850\n",
            "\n",
            "Epoch 00137: val_accuracy did not improve from 0.86850\n",
            "\n",
            "Epoch 00138: val_accuracy did not improve from 0.86850\n",
            "\n",
            "Epoch 00139: val_accuracy did not improve from 0.86850\n",
            "\n",
            "Epoch 00140: val_accuracy did not improve from 0.86850\n",
            "\n",
            "Epoch 00141: val_accuracy did not improve from 0.86850\n",
            "\n",
            "Epoch 00142: val_accuracy did not improve from 0.86850\n",
            "\n",
            "Epoch 00143: val_accuracy did not improve from 0.86850\n",
            "\n",
            "Epoch 00144: val_accuracy did not improve from 0.86850\n",
            "\n",
            "Epoch 00145: val_accuracy did not improve from 0.86850\n",
            "\n",
            "Epoch 00146: val_accuracy did not improve from 0.86850\n",
            "\n",
            "Epoch 00147: val_accuracy did not improve from 0.86850\n",
            "\n",
            "Epoch 00148: val_accuracy did not improve from 0.86850\n",
            "\n",
            "Epoch 00149: val_accuracy did not improve from 0.86850\n",
            "\n",
            "Epoch 00150: val_accuracy did not improve from 0.86850\n",
            "\n",
            "Epoch 00151: val_accuracy did not improve from 0.86850\n",
            "\n",
            "Epoch 00152: val_accuracy did not improve from 0.86850\n",
            "\n",
            "Epoch 00153: val_accuracy did not improve from 0.86850\n",
            "\n",
            "Epoch 00154: val_accuracy did not improve from 0.86850\n",
            "\n",
            "Epoch 00155: val_accuracy did not improve from 0.86850\n",
            "\n",
            "Epoch 00156: val_accuracy did not improve from 0.86850\n",
            "\n",
            "Epoch 00157: val_accuracy did not improve from 0.86850\n",
            "\n",
            "Epoch 00158: val_accuracy did not improve from 0.86850\n",
            "\n",
            "Epoch 00159: val_accuracy did not improve from 0.86850\n",
            "\n",
            "Epoch 00160: val_accuracy did not improve from 0.86850\n",
            "\n",
            "Epoch 00161: val_accuracy did not improve from 0.86850\n",
            "\n",
            "Epoch 00162: val_accuracy did not improve from 0.86850\n",
            "\n",
            "Epoch 00163: val_accuracy did not improve from 0.86850\n",
            "\n",
            "Epoch 00164: val_accuracy did not improve from 0.86850\n",
            "\n",
            "Epoch 00165: val_accuracy did not improve from 0.86850\n",
            "\n",
            "Epoch 00166: val_accuracy did not improve from 0.86850\n",
            "\n",
            "Epoch 00167: val_accuracy did not improve from 0.86850\n",
            "\n",
            "Epoch 00168: val_accuracy did not improve from 0.86850\n",
            "\n",
            "Epoch 00169: val_accuracy did not improve from 0.86850\n",
            "\n",
            "Epoch 00170: val_accuracy did not improve from 0.86850\n",
            "\n",
            "Epoch 00171: val_accuracy did not improve from 0.86850\n",
            "\n",
            "Epoch 00172: val_accuracy did not improve from 0.86850\n",
            "\n",
            "Epoch 00173: val_accuracy did not improve from 0.86850\n",
            "\n",
            "Epoch 00174: val_accuracy did not improve from 0.86850\n",
            "\n",
            "Epoch 00175: val_accuracy did not improve from 0.86850\n",
            "\n",
            "Epoch 00176: val_accuracy did not improve from 0.86850\n",
            "\n",
            "Epoch 00177: val_accuracy did not improve from 0.86850\n",
            "\n",
            "Epoch 00178: val_accuracy did not improve from 0.86850\n",
            "\n",
            "Epoch 00179: val_accuracy did not improve from 0.86850\n",
            "\n",
            "Epoch 00180: val_accuracy did not improve from 0.86850\n",
            "\n",
            "Epoch 00181: val_accuracy did not improve from 0.86850\n",
            "\n",
            "Epoch 00182: val_accuracy did not improve from 0.86850\n",
            "\n",
            "Epoch 00183: val_accuracy did not improve from 0.86850\n",
            "\n",
            "Epoch 00184: val_accuracy did not improve from 0.86850\n",
            "\n",
            "Epoch 00185: val_accuracy did not improve from 0.86850\n",
            "\n",
            "Epoch 00186: val_accuracy did not improve from 0.86850\n",
            "\n",
            "Epoch 00187: val_accuracy did not improve from 0.86850\n",
            "\n",
            "Epoch 00188: val_accuracy did not improve from 0.86850\n",
            "\n",
            "Epoch 00189: val_accuracy did not improve from 0.86850\n",
            "\n",
            "Epoch 00190: val_accuracy did not improve from 0.86850\n",
            "\n",
            "Epoch 00191: val_accuracy did not improve from 0.86850\n",
            "\n",
            "Epoch 00192: val_accuracy did not improve from 0.86850\n",
            "\n",
            "Epoch 00193: val_accuracy did not improve from 0.86850\n",
            "\n",
            "Epoch 00194: val_accuracy did not improve from 0.86850\n",
            "\n",
            "Epoch 00195: val_accuracy did not improve from 0.86850\n",
            "\n",
            "Epoch 00196: val_accuracy did not improve from 0.86850\n",
            "\n",
            "Epoch 00197: val_accuracy did not improve from 0.86850\n",
            "\n",
            "Epoch 00198: val_accuracy did not improve from 0.86850\n",
            "\n",
            "Epoch 00199: val_accuracy did not improve from 0.86850\n",
            "\n",
            "Epoch 00200: val_accuracy did not improve from 0.86850\n",
            "\n",
            "Epoch 00201: val_accuracy did not improve from 0.86850\n",
            "\n",
            "Epoch 00202: val_accuracy did not improve from 0.86850\n",
            "\n",
            "Epoch 00203: val_accuracy did not improve from 0.86850\n",
            "\n",
            "Epoch 00204: val_accuracy did not improve from 0.86850\n",
            "\n",
            "Epoch 00205: val_accuracy did not improve from 0.86850\n",
            "\n",
            "Epoch 00206: val_accuracy did not improve from 0.86850\n",
            "\n",
            "Epoch 00207: val_accuracy did not improve from 0.86850\n",
            "\n",
            "Epoch 00208: val_accuracy did not improve from 0.86850\n",
            "\n",
            "Epoch 00209: val_accuracy did not improve from 0.86850\n",
            "\n",
            "Epoch 00210: val_accuracy did not improve from 0.86850\n",
            "\n",
            "Epoch 00211: val_accuracy did not improve from 0.86850\n",
            "\n",
            "Epoch 00212: val_accuracy did not improve from 0.86850\n",
            "\n",
            "Epoch 00213: val_accuracy did not improve from 0.86850\n",
            "\n",
            "Epoch 00214: val_accuracy did not improve from 0.86850\n",
            "\n",
            "Epoch 00215: val_accuracy did not improve from 0.86850\n",
            "\n",
            "Epoch 00216: val_accuracy did not improve from 0.86850\n",
            "\n",
            "Epoch 00217: val_accuracy did not improve from 0.86850\n",
            "\n",
            "Epoch 00218: val_accuracy did not improve from 0.86850\n",
            "\n",
            "Epoch 00219: val_accuracy did not improve from 0.86850\n",
            "\n",
            "Epoch 00220: val_accuracy did not improve from 0.86850\n",
            "\n",
            "Epoch 00221: val_accuracy did not improve from 0.86850\n",
            "\n",
            "Epoch 00222: val_accuracy did not improve from 0.86850\n",
            "\n",
            "Epoch 00223: val_accuracy did not improve from 0.86850\n",
            "\n",
            "Epoch 00224: val_accuracy did not improve from 0.86850\n",
            "\n",
            "Epoch 00225: val_accuracy did not improve from 0.86850\n",
            "\n",
            "Epoch 00226: val_accuracy did not improve from 0.86850\n",
            "\n",
            "Epoch 00227: val_accuracy did not improve from 0.86850\n",
            "\n",
            "Epoch 00228: val_accuracy did not improve from 0.86850\n",
            "\n",
            "Epoch 00229: val_accuracy did not improve from 0.86850\n",
            "\n",
            "Epoch 00230: val_accuracy did not improve from 0.86850\n",
            "\n",
            "Epoch 00231: val_accuracy did not improve from 0.86850\n",
            "\n",
            "Epoch 00232: val_accuracy did not improve from 0.86850\n",
            "\n",
            "Epoch 00233: val_accuracy did not improve from 0.86850\n",
            "\n",
            "Epoch 00234: val_accuracy did not improve from 0.86850\n",
            "\n",
            "Epoch 00235: val_accuracy did not improve from 0.86850\n",
            "\n",
            "Epoch 00236: val_accuracy did not improve from 0.86850\n",
            "\n",
            "Epoch 00237: val_accuracy did not improve from 0.86850\n",
            "\n",
            "Epoch 00238: val_accuracy did not improve from 0.86850\n",
            "\n",
            "Epoch 00239: val_accuracy did not improve from 0.86850\n",
            "\n",
            "Epoch 00240: val_accuracy did not improve from 0.86850\n",
            "\n",
            "Epoch 00241: val_accuracy did not improve from 0.86850\n",
            "\n",
            "Epoch 00242: val_accuracy did not improve from 0.86850\n",
            "\n",
            "Epoch 00243: val_accuracy did not improve from 0.86850\n",
            "\n",
            "Epoch 00244: val_accuracy did not improve from 0.86850\n",
            "\n",
            "Epoch 00245: val_accuracy did not improve from 0.86850\n",
            "\n",
            "Epoch 00246: val_accuracy did not improve from 0.86850\n",
            "\n",
            "Epoch 00247: val_accuracy did not improve from 0.86850\n",
            "\n",
            "Epoch 00248: val_accuracy did not improve from 0.86850\n",
            "\n",
            "Epoch 00249: val_accuracy did not improve from 0.86850\n",
            "\n",
            "Epoch 00250: val_accuracy did not improve from 0.86850\n",
            "\n",
            "Epoch 00251: val_accuracy did not improve from 0.86850\n",
            "\n",
            "Epoch 00252: val_accuracy did not improve from 0.86850\n",
            "\n",
            "Epoch 00253: val_accuracy did not improve from 0.86850\n",
            "\n",
            "Epoch 00254: val_accuracy did not improve from 0.86850\n",
            "\n",
            "Epoch 00255: val_accuracy did not improve from 0.86850\n",
            "\n",
            "Epoch 00256: val_accuracy did not improve from 0.86850\n",
            "\n",
            "Epoch 00257: val_accuracy did not improve from 0.86850\n",
            "\n",
            "Epoch 00258: val_accuracy did not improve from 0.86850\n",
            "\n",
            "Epoch 00259: val_accuracy did not improve from 0.86850\n",
            "\n",
            "Epoch 00260: val_accuracy did not improve from 0.86850\n",
            "\n",
            "Epoch 00261: val_accuracy did not improve from 0.86850\n",
            "Epoch 00261: early stopping\n",
            "Train: 0.8659999966621399, Test: 0.8684999942779541\n"
          ],
          "name": "stdout"
        }
      ]
    },
    {
      "cell_type": "code",
      "metadata": {
        "colab": {
          "base_uri": "https://localhost:8080/",
          "height": 265
        },
        "id": "jYZHDYyJXqVw",
        "outputId": "e6a1e1f9-b8a4-4228-dbeb-2c7f77850ff5"
      },
      "source": [
        "#lets plot the train and test loss\n",
        "plt.plot(history.history['loss'],label='train')\n",
        "plt.plot(history.history['val_loss'],label='test')\n",
        "plt.legend()\n",
        "plt.show()"
      ],
      "execution_count": 23,
      "outputs": [
        {
          "output_type": "display_data",
          "data": {
            "image/png": "[encoded data removed]",
            "text/plain": [
              "<Figure size 432x288 with 1 Axes>"
            ]
          },
          "metadata": {
            "tags": [],
            "needs_background": "light"
          }
        }
      ]
    },
    {
      "cell_type": "code",
      "metadata": {
        "colab": {
          "base_uri": "https://localhost:8080/"
        },
        "id": "xNB-I3loYfVP",
        "outputId": "2a77185e-e61f-4bc3-c5aa-0cae811f7aed"
      },
      "source": [
        "model.evaluate(X_test,y_test)"
      ],
      "execution_count": 24,
      "outputs": [
        {
          "output_type": "stream",
          "text": [
            "63/63 [==============================] - 0s 2ms/step - loss: 0.3418 - accuracy: 0.8620\n"
          ],
          "name": "stdout"
        },
        {
          "output_type": "execute_result",
          "data": {
            "text/plain": [
              "[0.3417831361293793, 0.8619999885559082]"
            ]
          },
          "metadata": {
            "tags": []
          },
          "execution_count": 24
        }
      ]
    },
    {
      "cell_type": "code",
      "metadata": {
        "colab": {
          "base_uri": "https://localhost:8080/"
        },
        "id": "QU8qaISSYwPu",
        "outputId": "d90933f5-9963-4325-91d8-45a9d4cd5380"
      },
      "source": [
        "import joblib\n",
        "joblib.dump(sc,'scaler.pkl')"
      ],
      "execution_count": 25,
      "outputs": [
        {
          "output_type": "execute_result",
          "data": {
            "text/plain": [
              "['scaler.pkl']"
            ]
          },
          "metadata": {
            "tags": []
          },
          "execution_count": 25
        }
      ]
    },
    {
      "cell_type": "code",
      "metadata": {
        "id": "_Xn3YphzZBYW"
      },
      "source": [
        "# loading the scaler\n",
        "sc=joblib.load('scaler.pkl')"
      ],
      "execution_count": 26,
      "outputs": []
    },
    {
      "cell_type": "code",
      "metadata": {
        "id": "9SDmdM4WZNPp"
      },
      "source": [
        "# loading the model\n",
        "ann_model=load_model('best_model.h5')"
      ],
      "execution_count": 27,
      "outputs": []
    },
    {
      "cell_type": "code",
      "metadata": {
        "colab": {
          "base_uri": "https://localhost:8080/"
        },
        "id": "JMzbBa9VZ0ad",
        "outputId": "7f3d4a83-cc96-4a3e-93de-d8c1925296d8"
      },
      "source": [
        "# lets take y predictions\n",
        "yp=ann_model.predict(X_test)\n",
        "yp[:5]"
      ],
      "execution_count": 28,
      "outputs": [
        {
          "output_type": "execute_result",
          "data": {
            "text/plain": [
              "array([[0.01866133],\n",
              "       [0.02013155],\n",
              "       [0.01435114],\n",
              "       [0.00428309],\n",
              "       [0.00657497]], dtype=float32)"
            ]
          },
          "metadata": {
            "tags": []
          },
          "execution_count": 28
        }
      ]
    },
    {
      "cell_type": "code",
      "metadata": {
        "colab": {
          "base_uri": "https://localhost:8080/"
        },
        "id": "8qY7-L3Dgxid",
        "outputId": "2ee519d8-03b1-478d-bd45-aec03772efb8"
      },
      "source": [
        "yp[:10]"
      ],
      "execution_count": 38,
      "outputs": [
        {
          "output_type": "execute_result",
          "data": {
            "text/plain": [
              "array([[0.01866133],\n",
              "       [0.02013155],\n",
              "       [0.01435114],\n",
              "       [0.00428309],\n",
              "       [0.00657497],\n",
              "       [0.8240108 ],\n",
              "       [0.6419537 ],\n",
              "       [0.01034631],\n",
              "       [0.2797211 ],\n",
              "       [0.01840815]], dtype=float32)"
            ]
          },
          "metadata": {
            "tags": []
          },
          "execution_count": 38
        }
      ]
    },
    {
      "cell_type": "code",
      "metadata": {
        "id": "qAkUEljkaFrb"
      },
      "source": [
        "# lets store these y predictions in 1's and 0's format\n",
        "y_pred=[]\n",
        "for i in yp:\n",
        "  if i > 0.5:\n",
        "    y_pred.append(1)\n",
        "  else:\n",
        "    y_pred.append(0)"
      ],
      "execution_count": 29,
      "outputs": []
    },
    {
      "cell_type": "code",
      "metadata": {
        "colab": {
          "base_uri": "https://localhost:8080/"
        },
        "id": "WYX0zxrganir",
        "outputId": "fe5ebaa7-64f8-4343-f0ba-793b5169048c"
      },
      "source": [
        "y_pred[:10]"
      ],
      "execution_count": 30,
      "outputs": [
        {
          "output_type": "execute_result",
          "data": {
            "text/plain": [
              "[0, 0, 0, 0, 0, 1, 1, 0, 0, 0]"
            ]
          },
          "metadata": {
            "tags": []
          },
          "execution_count": 30
        }
      ]
    },
    {
      "cell_type": "code",
      "metadata": {
        "colab": {
          "base_uri": "https://localhost:8080/"
        },
        "id": "GfUiACdWZXrw",
        "outputId": "e3a57243-04d7-4404-af87-6bead6c04954"
      },
      "source": [
        "# lets print classification metrics\n",
        "from sklearn.metrics import classification_report,confusion_matrix\n",
        "print(classification_report(y_test,y_pred))"
      ],
      "execution_count": 31,
      "outputs": [
        {
          "output_type": "stream",
          "text": [
            "              precision    recall  f1-score   support\n",
            "\n",
            "           0       0.87      0.98      0.92      1600\n",
            "           1       0.82      0.44      0.57       400\n",
            "\n",
            "    accuracy                           0.87      2000\n",
            "   macro avg       0.85      0.71      0.75      2000\n",
            "weighted avg       0.86      0.87      0.85      2000\n",
            "\n"
          ],
          "name": "stdout"
        }
      ]
    },
    {
      "cell_type": "code",
      "metadata": {
        "colab": {
          "base_uri": "https://localhost:8080/"
        },
        "id": "I5HDZgwJa5V3",
        "outputId": "f173ff02-71c7-48d2-f08d-18524e465bf4"
      },
      "source": [
        "# confusion matrix\n",
        "print(confusion_matrix(y_test,y_pred))"
      ],
      "execution_count": 32,
      "outputs": [
        {
          "output_type": "stream",
          "text": [
            "[[1562   38]\n",
            " [ 225  175]]\n"
          ],
          "name": "stdout"
        }
      ]
    },
    {
      "cell_type": "code",
      "metadata": {
        "colab": {
          "base_uri": "https://localhost:8080/"
        },
        "id": "E5IRtqeBb3FF",
        "outputId": "e18dd87a-075a-4726-8e3a-c055e3e71792"
      },
      "source": [
        "tp,fn,fp,tn=confusion_matrix(y_test,y_pred).reshape(-1)\n",
        "print('tp:{}, fn:{}, fp:{}, tn:{}'.format(tp,fn,fp,tn))"
      ],
      "execution_count": 33,
      "outputs": [
        {
          "output_type": "stream",
          "text": [
            "tp:1562, fn:38, fp:225, tn:175\n"
          ],
          "name": "stdout"
        }
      ]
    },
    {
      "cell_type": "code",
      "metadata": {
        "colab": {
          "base_uri": "https://localhost:8080/"
        },
        "id": "r46XYepxcnxV",
        "outputId": "def5e623-3525-413d-837c-dcc6e41544f2"
      },
      "source": [
        "# lets test the predictions\n",
        "# index 0. expected 1 but got 0\n",
        "prediction=ann_model.predict(sc.transform([[619,0,42,2,0.00,1,1,1,101348.88,1,0,0]])) > 0.5\n",
        "prediction"
      ],
      "execution_count": 34,
      "outputs": [
        {
          "output_type": "execute_result",
          "data": {
            "text/plain": [
              "array([[False]])"
            ]
          },
          "metadata": {
            "tags": []
          },
          "execution_count": 34
        }
      ]
    },
    {
      "cell_type": "code",
      "metadata": {
        "colab": {
          "base_uri": "https://localhost:8080/"
        },
        "id": "s5x7CgylgFbz",
        "outputId": "1ca3457e-4d93-4c86-b541-a9ac98f3a6aa"
      },
      "source": [
        "# index 5\n",
        "# expected 1 and got 1\n",
        "prediction=ann_model.predict(sc.transform([[645,1,44,8,113755.78,2,1,0,149756.71,0,0,1]])) > 0.5\n",
        "prediction"
      ],
      "execution_count": 37,
      "outputs": [
        {
          "output_type": "execute_result",
          "data": {
            "text/plain": [
              "array([[False]])"
            ]
          },
          "metadata": {
            "tags": []
          },
          "execution_count": 37
        }
      ]
    },
    {
      "cell_type": "code",
      "metadata": {
        "colab": {
          "base_uri": "https://localhost:8080/"
        },
        "id": "Y8uQ9yI_lZwB",
        "outputId": "33f03364-efba-40a7-f5b2-af9a2465a01a"
      },
      "source": [
        "# index 7. expected 1 and got 1\n",
        "ann_model.predict(sc.transform([[376,0,29,4,115046.74,4,1,0,119346.88,0,1,0]])) > 0.5"
      ],
      "execution_count": 41,
      "outputs": [
        {
          "output_type": "execute_result",
          "data": {
            "text/plain": [
              "array([[ True]])"
            ]
          },
          "metadata": {
            "tags": []
          },
          "execution_count": 41
        }
      ]
    }
  ]
}